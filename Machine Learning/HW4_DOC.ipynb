{
 "cells": [
  {
   "cell_type": "markdown",
   "id": "1e732648",
   "metadata": {},
   "source": [
    "# IMPORTS"
   ]
  },
  {
   "cell_type": "code",
   "execution_count": 54,
   "id": "6dc0b3d2",
   "metadata": {},
   "outputs": [],
   "source": [
    "import numpy as np\n",
    "import pandas as pd\n",
    "import seaborn as sns\n",
    "import matplotlib.pyplot as plt\n",
    "from sklearn.metrics import plot_confusion_matrix\n",
    "from matplotlib.colors import ListedColormap\n",
    "from sklearn.compose import make_column_transformer\n",
    "from sklearn.metrics import confusion_matrix, f1_score, accuracy_score, classification_report"
   ]
  },
  {
   "cell_type": "markdown",
   "id": "f8dad063",
   "metadata": {},
   "source": [
    "# READING DATA\n",
    " reading data and separate it as featuers (X) and Labels(Y)"
   ]
  },
  {
   "cell_type": "code",
   "execution_count": 55,
   "id": "0ce9d697",
   "metadata": {},
   "outputs": [],
   "source": [
    "df = pd.read_csv('C:/Users/hazem/Desktop/Level 7/data/xAPI-Edu-Data.csv')\n",
    "x = df.drop(['Class'], axis = 'columns')\n",
    "y = df.Class"
   ]
  },
  {
   "cell_type": "code",
   "execution_count": 7,
   "id": "fda8dcf6",
   "metadata": {},
   "outputs": [
    {
     "data": {
      "text/html": [
       "<div>\n",
       "<style scoped>\n",
       "    .dataframe tbody tr th:only-of-type {\n",
       "        vertical-align: middle;\n",
       "    }\n",
       "\n",
       "    .dataframe tbody tr th {\n",
       "        vertical-align: top;\n",
       "    }\n",
       "\n",
       "    .dataframe thead th {\n",
       "        text-align: right;\n",
       "    }\n",
       "</style>\n",
       "<table border=\"1\" class=\"dataframe\">\n",
       "  <thead>\n",
       "    <tr style=\"text-align: right;\">\n",
       "      <th></th>\n",
       "      <th>gender</th>\n",
       "      <th>NationalITy</th>\n",
       "      <th>PlaceofBirth</th>\n",
       "      <th>StageID</th>\n",
       "      <th>GradeID</th>\n",
       "      <th>SectionID</th>\n",
       "      <th>Topic</th>\n",
       "      <th>Semester</th>\n",
       "      <th>Relation</th>\n",
       "      <th>raisedhands</th>\n",
       "      <th>VisITedResources</th>\n",
       "      <th>AnnouncementsView</th>\n",
       "      <th>Discussion</th>\n",
       "      <th>ParentAnsweringSurvey</th>\n",
       "      <th>ParentschoolSatisfaction</th>\n",
       "      <th>StudentAbsenceDays</th>\n",
       "      <th>Class</th>\n",
       "    </tr>\n",
       "  </thead>\n",
       "  <tbody>\n",
       "    <tr>\n",
       "      <th>0</th>\n",
       "      <td>M</td>\n",
       "      <td>KW</td>\n",
       "      <td>KuwaIT</td>\n",
       "      <td>lowerlevel</td>\n",
       "      <td>G-04</td>\n",
       "      <td>A</td>\n",
       "      <td>IT</td>\n",
       "      <td>F</td>\n",
       "      <td>Father</td>\n",
       "      <td>15</td>\n",
       "      <td>16</td>\n",
       "      <td>2</td>\n",
       "      <td>20</td>\n",
       "      <td>Yes</td>\n",
       "      <td>Good</td>\n",
       "      <td>Under-7</td>\n",
       "      <td>M</td>\n",
       "    </tr>\n",
       "    <tr>\n",
       "      <th>1</th>\n",
       "      <td>M</td>\n",
       "      <td>KW</td>\n",
       "      <td>KuwaIT</td>\n",
       "      <td>lowerlevel</td>\n",
       "      <td>G-04</td>\n",
       "      <td>A</td>\n",
       "      <td>IT</td>\n",
       "      <td>F</td>\n",
       "      <td>Father</td>\n",
       "      <td>20</td>\n",
       "      <td>20</td>\n",
       "      <td>3</td>\n",
       "      <td>25</td>\n",
       "      <td>Yes</td>\n",
       "      <td>Good</td>\n",
       "      <td>Under-7</td>\n",
       "      <td>M</td>\n",
       "    </tr>\n",
       "    <tr>\n",
       "      <th>2</th>\n",
       "      <td>M</td>\n",
       "      <td>KW</td>\n",
       "      <td>KuwaIT</td>\n",
       "      <td>lowerlevel</td>\n",
       "      <td>G-04</td>\n",
       "      <td>A</td>\n",
       "      <td>IT</td>\n",
       "      <td>F</td>\n",
       "      <td>Father</td>\n",
       "      <td>10</td>\n",
       "      <td>7</td>\n",
       "      <td>0</td>\n",
       "      <td>30</td>\n",
       "      <td>No</td>\n",
       "      <td>Bad</td>\n",
       "      <td>Above-7</td>\n",
       "      <td>L</td>\n",
       "    </tr>\n",
       "    <tr>\n",
       "      <th>3</th>\n",
       "      <td>M</td>\n",
       "      <td>KW</td>\n",
       "      <td>KuwaIT</td>\n",
       "      <td>lowerlevel</td>\n",
       "      <td>G-04</td>\n",
       "      <td>A</td>\n",
       "      <td>IT</td>\n",
       "      <td>F</td>\n",
       "      <td>Father</td>\n",
       "      <td>30</td>\n",
       "      <td>25</td>\n",
       "      <td>5</td>\n",
       "      <td>35</td>\n",
       "      <td>No</td>\n",
       "      <td>Bad</td>\n",
       "      <td>Above-7</td>\n",
       "      <td>L</td>\n",
       "    </tr>\n",
       "    <tr>\n",
       "      <th>4</th>\n",
       "      <td>M</td>\n",
       "      <td>KW</td>\n",
       "      <td>KuwaIT</td>\n",
       "      <td>lowerlevel</td>\n",
       "      <td>G-04</td>\n",
       "      <td>A</td>\n",
       "      <td>IT</td>\n",
       "      <td>F</td>\n",
       "      <td>Father</td>\n",
       "      <td>40</td>\n",
       "      <td>50</td>\n",
       "      <td>12</td>\n",
       "      <td>50</td>\n",
       "      <td>No</td>\n",
       "      <td>Bad</td>\n",
       "      <td>Above-7</td>\n",
       "      <td>M</td>\n",
       "    </tr>\n",
       "    <tr>\n",
       "      <th>...</th>\n",
       "      <td>...</td>\n",
       "      <td>...</td>\n",
       "      <td>...</td>\n",
       "      <td>...</td>\n",
       "      <td>...</td>\n",
       "      <td>...</td>\n",
       "      <td>...</td>\n",
       "      <td>...</td>\n",
       "      <td>...</td>\n",
       "      <td>...</td>\n",
       "      <td>...</td>\n",
       "      <td>...</td>\n",
       "      <td>...</td>\n",
       "      <td>...</td>\n",
       "      <td>...</td>\n",
       "      <td>...</td>\n",
       "      <td>...</td>\n",
       "    </tr>\n",
       "    <tr>\n",
       "      <th>475</th>\n",
       "      <td>F</td>\n",
       "      <td>Jordan</td>\n",
       "      <td>Jordan</td>\n",
       "      <td>MiddleSchool</td>\n",
       "      <td>G-08</td>\n",
       "      <td>A</td>\n",
       "      <td>Chemistry</td>\n",
       "      <td>S</td>\n",
       "      <td>Father</td>\n",
       "      <td>5</td>\n",
       "      <td>4</td>\n",
       "      <td>5</td>\n",
       "      <td>8</td>\n",
       "      <td>No</td>\n",
       "      <td>Bad</td>\n",
       "      <td>Above-7</td>\n",
       "      <td>L</td>\n",
       "    </tr>\n",
       "    <tr>\n",
       "      <th>476</th>\n",
       "      <td>F</td>\n",
       "      <td>Jordan</td>\n",
       "      <td>Jordan</td>\n",
       "      <td>MiddleSchool</td>\n",
       "      <td>G-08</td>\n",
       "      <td>A</td>\n",
       "      <td>Geology</td>\n",
       "      <td>F</td>\n",
       "      <td>Father</td>\n",
       "      <td>50</td>\n",
       "      <td>77</td>\n",
       "      <td>14</td>\n",
       "      <td>28</td>\n",
       "      <td>No</td>\n",
       "      <td>Bad</td>\n",
       "      <td>Under-7</td>\n",
       "      <td>M</td>\n",
       "    </tr>\n",
       "    <tr>\n",
       "      <th>477</th>\n",
       "      <td>F</td>\n",
       "      <td>Jordan</td>\n",
       "      <td>Jordan</td>\n",
       "      <td>MiddleSchool</td>\n",
       "      <td>G-08</td>\n",
       "      <td>A</td>\n",
       "      <td>Geology</td>\n",
       "      <td>S</td>\n",
       "      <td>Father</td>\n",
       "      <td>55</td>\n",
       "      <td>74</td>\n",
       "      <td>25</td>\n",
       "      <td>29</td>\n",
       "      <td>No</td>\n",
       "      <td>Bad</td>\n",
       "      <td>Under-7</td>\n",
       "      <td>M</td>\n",
       "    </tr>\n",
       "    <tr>\n",
       "      <th>478</th>\n",
       "      <td>F</td>\n",
       "      <td>Jordan</td>\n",
       "      <td>Jordan</td>\n",
       "      <td>MiddleSchool</td>\n",
       "      <td>G-08</td>\n",
       "      <td>A</td>\n",
       "      <td>History</td>\n",
       "      <td>F</td>\n",
       "      <td>Father</td>\n",
       "      <td>30</td>\n",
       "      <td>17</td>\n",
       "      <td>14</td>\n",
       "      <td>57</td>\n",
       "      <td>No</td>\n",
       "      <td>Bad</td>\n",
       "      <td>Above-7</td>\n",
       "      <td>L</td>\n",
       "    </tr>\n",
       "    <tr>\n",
       "      <th>479</th>\n",
       "      <td>F</td>\n",
       "      <td>Jordan</td>\n",
       "      <td>Jordan</td>\n",
       "      <td>MiddleSchool</td>\n",
       "      <td>G-08</td>\n",
       "      <td>A</td>\n",
       "      <td>History</td>\n",
       "      <td>S</td>\n",
       "      <td>Father</td>\n",
       "      <td>35</td>\n",
       "      <td>14</td>\n",
       "      <td>23</td>\n",
       "      <td>62</td>\n",
       "      <td>No</td>\n",
       "      <td>Bad</td>\n",
       "      <td>Above-7</td>\n",
       "      <td>L</td>\n",
       "    </tr>\n",
       "  </tbody>\n",
       "</table>\n",
       "<p>480 rows × 17 columns</p>\n",
       "</div>"
      ],
      "text/plain": [
       "    gender NationalITy PlaceofBirth       StageID GradeID SectionID  \\\n",
       "0        M          KW       KuwaIT    lowerlevel    G-04         A   \n",
       "1        M          KW       KuwaIT    lowerlevel    G-04         A   \n",
       "2        M          KW       KuwaIT    lowerlevel    G-04         A   \n",
       "3        M          KW       KuwaIT    lowerlevel    G-04         A   \n",
       "4        M          KW       KuwaIT    lowerlevel    G-04         A   \n",
       "..     ...         ...          ...           ...     ...       ...   \n",
       "475      F      Jordan       Jordan  MiddleSchool    G-08         A   \n",
       "476      F      Jordan       Jordan  MiddleSchool    G-08         A   \n",
       "477      F      Jordan       Jordan  MiddleSchool    G-08         A   \n",
       "478      F      Jordan       Jordan  MiddleSchool    G-08         A   \n",
       "479      F      Jordan       Jordan  MiddleSchool    G-08         A   \n",
       "\n",
       "         Topic Semester Relation  raisedhands  VisITedResources  \\\n",
       "0           IT        F   Father           15                16   \n",
       "1           IT        F   Father           20                20   \n",
       "2           IT        F   Father           10                 7   \n",
       "3           IT        F   Father           30                25   \n",
       "4           IT        F   Father           40                50   \n",
       "..         ...      ...      ...          ...               ...   \n",
       "475  Chemistry        S   Father            5                 4   \n",
       "476    Geology        F   Father           50                77   \n",
       "477    Geology        S   Father           55                74   \n",
       "478    History        F   Father           30                17   \n",
       "479    History        S   Father           35                14   \n",
       "\n",
       "     AnnouncementsView  Discussion ParentAnsweringSurvey  \\\n",
       "0                    2          20                   Yes   \n",
       "1                    3          25                   Yes   \n",
       "2                    0          30                    No   \n",
       "3                    5          35                    No   \n",
       "4                   12          50                    No   \n",
       "..                 ...         ...                   ...   \n",
       "475                  5           8                    No   \n",
       "476                 14          28                    No   \n",
       "477                 25          29                    No   \n",
       "478                 14          57                    No   \n",
       "479                 23          62                    No   \n",
       "\n",
       "    ParentschoolSatisfaction StudentAbsenceDays Class  \n",
       "0                       Good            Under-7     M  \n",
       "1                       Good            Under-7     M  \n",
       "2                        Bad            Above-7     L  \n",
       "3                        Bad            Above-7     L  \n",
       "4                        Bad            Above-7     M  \n",
       "..                       ...                ...   ...  \n",
       "475                      Bad            Above-7     L  \n",
       "476                      Bad            Under-7     M  \n",
       "477                      Bad            Under-7     M  \n",
       "478                      Bad            Above-7     L  \n",
       "479                      Bad            Above-7     L  \n",
       "\n",
       "[480 rows x 17 columns]"
      ]
     },
     "execution_count": 7,
     "metadata": {},
     "output_type": "execute_result"
    }
   ],
   "source": [
    "df"
   ]
  },
  {
   "cell_type": "markdown",
   "id": "a101ab9f",
   "metadata": {},
   "source": [
    "# DATA PRE-PROCESSING\n",
    "\n",
    "## Data encoding\n",
    "Since our data is containing a categorical variables, and since we are dealing with a machine, our program can't undersatnd characters, we have to encode our data as (0,1).\n",
    "\n",
    "we are gonna use OneHotEncoding provided by SKLearn to do that.\n",
    "OneHotEncoding is going to change the chatogorical data from the features columns. \n",
    "\n",
    "OrdinalEncoding is on the other hand is going to change the label data, and since our labeld data has a logical and ordinal values, meaning, (H) is better than (M), and (M) is better than (L).\n",
    "\n",
    "our ordinal encoder is gonna take that into consideration.\n",
    "so L = 0, M = 1, H = 2."
   ]
  },
  {
   "cell_type": "code",
   "execution_count": 56,
   "id": "ae1c07f5",
   "metadata": {},
   "outputs": [],
   "source": [
    "from sklearn.preprocessing import OneHotEncoder \n",
    "from sklearn.preprocessing import OrdinalEncoder\n",
    "\n",
    "ohe = OneHotEncoder(sparse=False)\n",
    "oe = OrdinalEncoder(categories=[['L','M','H']])\n",
    "\n",
    "\n",
    "ct = make_column_transformer(\n",
    "    (ohe, ['Topic','Relation','ParentAnsweringSurvey','gender','StudentAbsenceDays','ParentschoolSatisfaction',\n",
    "           'NationalITy','PlaceofBirth','GradeID','Semester','SectionID',\n",
    "             'StageID']),\n",
    "    remainder='passthrough')\n",
    "\n",
    "x = ct.fit_transform(x)\n",
    "y = oe.fit_transform(df[['Class']])\n",
    "\n"
   ]
  },
  {
   "cell_type": "markdown",
   "id": "d162d5dc",
   "metadata": {},
   "source": [
    "## Data distribution\n",
    "from the plot below we can see that we have a data imbalance in our Class column"
   ]
  },
  {
   "cell_type": "code",
   "execution_count": 22,
   "id": "30e13537",
   "metadata": {
    "scrolled": false
   },
   "outputs": [
    {
     "data": {
      "image/png": "[encoded data removed]",
      "text/plain": [
       "<Figure size 432x288 with 1 Axes>"
      ]
     },
     "metadata": {
      "needs_background": "light"
     },
     "output_type": "display_data"
    }
   ],
   "source": [
    "cc = pd.value_counts(df['Class'], sort = True);\n",
    "\n",
    "cc.plot(kind = 'bar', rot = 0);\n",
    "\n",
    "plt.title ('Class Distribution');"
   ]
  },
  {
   "cell_type": "markdown",
   "id": "3569591e",
   "metadata": {},
   "source": [
    "## Data imbalance\n",
    "there are a lot of ways to deal with imbalanced data\n",
    "\n",
    "- UnderSampling : which deletes some samples just to be balanced, but since our dataset is not large, we can use any sample we get\n",
    "\n",
    "- OverSampling : which adds more samples by guessing the values from our existing dataset  \n",
    "\n",
    "- Stratify : which split our test data into a balanced split according to our imbalanced data\n",
    "\n",
    "After some testing OverSampling gave the best results."
   ]
  },
  {
   "cell_type": "code",
   "execution_count": 57,
   "id": "cf1ab2ae",
   "metadata": {},
   "outputs": [],
   "source": [
    "from imblearn.combine import SMOTETomek\n",
    "\n",
    "smk = SMOTETomek(random_state = 0)\n",
    "x , y = smk.fit_resample(x,y)"
   ]
  },
  {
   "cell_type": "markdown",
   "id": "2fd56689",
   "metadata": {},
   "source": [
    "## More preprocessing\n",
    "\n",
    "I've tried a lot of preprocessing methods to get the best score possible.\n",
    "\n",
    "I tried selceting features using feature importance, but that didn't give good results all the time, and it wasn't consistent.\n",
    "\n",
    "I tried Standard Scaler, dind't seem to affect the data.\n",
    "\n",
    "I tried MinMax Scaler, dind't seem to affect the data either.\n",
    "\n",
    "OverSampling was the most effective preprocess.\n",
    "\n",
    "Below shown the Class distribution after applying OverSampling"
   ]
  },
  {
   "cell_type": "code",
   "execution_count": 54,
   "id": "5c5ab780",
   "metadata": {},
   "outputs": [
    {
     "data": {
      "image/png": "[encoded data removed]",
      "text/plain": [
       "<Figure size 432x288 with 1 Axes>"
      ]
     },
     "metadata": {
      "needs_background": "light"
     },
     "output_type": "display_data"
    }
   ],
   "source": [
    "cc = pd.value_counts(y, sort = True);\n",
    "\n",
    "barchar = cc.plot(kind = 'bar', rot = 0);\n",
    "\n",
    "plt.title ('Class Distribution');\n",
    "barchar.set_xticklabels(('L','M','H'));"
   ]
  },
  {
   "cell_type": "markdown",
   "id": "42102ef7",
   "metadata": {},
   "source": [
    "## Data spliting\n",
    "\n",
    "now our dataset is ready for training.\n",
    "below we split the data, 80% for training, and 20% for testing.\n"
   ]
  },
  {
   "cell_type": "code",
   "execution_count": 58,
   "id": "14670ca9",
   "metadata": {},
   "outputs": [],
   "source": [
    "from sklearn.model_selection import train_test_split\n",
    "x_train, x_test, y_train, y_test = train_test_split(x, y, test_size = 0.20, random_state=0)"
   ]
  },
  {
   "cell_type": "markdown",
   "id": "6f100528",
   "metadata": {},
   "source": [
    "# Testing\n",
    "\n",
    "## Choosing the model\n",
    "\n",
    "After testing a lot of algorithms, RandomForset seems the best and most consistent option.\n",
    "\n",
    "I tested KNN, LogisticRegression , LinearSVC , SVC , DecisionTree , GaussianProcess , AdaBoost , GaussianNB , MLPClassifier.\n",
    "\n",
    "and since there is not a lot of time i'll be choosing RandomForest to make the model."
   ]
  },
  {
   "cell_type": "markdown",
   "id": "374dad49",
   "metadata": {},
   "source": [
    "## Hyper parameter Tuning\n",
    "\n",
    "I will be using GridSearchCV to tune my hyper parameter and take the best parameter for my model.\n",
    "Below is my testing parammeters."
   ]
  },
  {
   "cell_type": "code",
   "execution_count": 12,
   "id": "12fa508e",
   "metadata": {},
   "outputs": [
    {
     "name": "stdout",
     "output_type": "stream",
     "text": [
      "Fitting 5 folds for each of 4000 candidates, totalling 20000 fits\n"
     ]
    },
    {
     "data": {
      "text/plain": [
       "GridSearchCV(cv=5, estimator=RandomForestClassifier(), n_jobs=-1,\n",
       "             param_grid={'bootstrap': [True, False],\n",
       "                         'max_features': ['auto', 'sqrt'],\n",
       "                         'min_samples_leaf': [1, 2, 3, 4, 5],\n",
       "                         'min_samples_split': [2, 3, 4, 5],\n",
       "                         'n_estimators': [100, 104, 108, 112, 116, 120, 124,\n",
       "                                          128, 132, 136, 140, 144, 148, 153,\n",
       "                                          157, 161, 165, 169, 173, 177, 181,\n",
       "                                          185, 189, 193, 197, 202, 206, 210,\n",
       "                                          214, 218, ...]},\n",
       "             verbose=2)"
      ]
     },
     "execution_count": 12,
     "metadata": {},
     "output_type": "execute_result"
    }
   ],
   "source": [
    "from sklearn.ensemble import RandomForestClassifier\n",
    "from sklearn.model_selection import GridSearchCV\n",
    "\n",
    "# Number of trees in random forest\n",
    "n_estimators = [int(x) for x in np.linspace(start = 100, stop = 300, num = 50)]\n",
    "# Number of features to consider at every split\n",
    "max_features = ['auto', 'sqrt']\n",
    "# Minimum number of samples required to split a node\n",
    "min_samples_split = [2, 3, 4, 5]\n",
    "# Minimum number of samples required at each leaf node\n",
    "min_samples_leaf = [1, 2, 3, 4, 5]\n",
    "# Method of selecting samples for training each tree\n",
    "bootstrap = [True, False]\n",
    "\n",
    "# Create the param grid\n",
    "param_grid = {'n_estimators': n_estimators,\n",
    "               'max_features': max_features,\n",
    "               'min_samples_split': min_samples_split,\n",
    "               'min_samples_leaf': min_samples_leaf,\n",
    "               'bootstrap': bootstrap}\n",
    "\n",
    "#create default model\n",
    "rf_Model = RandomForestClassifier()\n",
    "rf_Grid = GridSearchCV(estimator = rf_Model, param_grid = param_grid, cv = 5, verbose=2, n_jobs = -1)\n",
    "\n",
    "#fitting the grid\n",
    "rf_Grid.fit(x_train, y_train)\n",
    "\n"
   ]
  },
  {
   "cell_type": "code",
   "execution_count": 13,
   "id": "efb4c954",
   "metadata": {},
   "outputs": [
    {
     "data": {
      "text/html": [
       "<div>\n",
       "<style scoped>\n",
       "    .dataframe tbody tr th:only-of-type {\n",
       "        vertical-align: middle;\n",
       "    }\n",
       "\n",
       "    .dataframe tbody tr th {\n",
       "        vertical-align: top;\n",
       "    }\n",
       "\n",
       "    .dataframe thead th {\n",
       "        text-align: right;\n",
       "    }\n",
       "</style>\n",
       "<table border=\"1\" class=\"dataframe\">\n",
       "  <thead>\n",
       "    <tr style=\"text-align: right;\">\n",
       "      <th></th>\n",
       "      <th>rank_test_score</th>\n",
       "      <th>mean_test_score</th>\n",
       "    </tr>\n",
       "  </thead>\n",
       "  <tbody>\n",
       "    <tr>\n",
       "      <th>3025</th>\n",
       "      <td>1</td>\n",
       "      <td>0.870212</td>\n",
       "    </tr>\n",
       "    <tr>\n",
       "      <th>3059</th>\n",
       "      <td>2</td>\n",
       "      <td>0.870187</td>\n",
       "    </tr>\n",
       "    <tr>\n",
       "      <th>2096</th>\n",
       "      <td>3</td>\n",
       "      <td>0.868015</td>\n",
       "    </tr>\n",
       "    <tr>\n",
       "      <th>2044</th>\n",
       "      <td>4</td>\n",
       "      <td>0.867965</td>\n",
       "    </tr>\n",
       "    <tr>\n",
       "      <th>2095</th>\n",
       "      <td>4</td>\n",
       "      <td>0.867965</td>\n",
       "    </tr>\n",
       "    <tr>\n",
       "      <th>3087</th>\n",
       "      <td>4</td>\n",
       "      <td>0.867965</td>\n",
       "    </tr>\n",
       "    <tr>\n",
       "      <th>2036</th>\n",
       "      <td>7</td>\n",
       "      <td>0.865793</td>\n",
       "    </tr>\n",
       "    <tr>\n",
       "      <th>3002</th>\n",
       "      <td>8</td>\n",
       "      <td>0.865768</td>\n",
       "    </tr>\n",
       "    <tr>\n",
       "      <th>3005</th>\n",
       "      <td>8</td>\n",
       "      <td>0.865768</td>\n",
       "    </tr>\n",
       "    <tr>\n",
       "      <th>2011</th>\n",
       "      <td>10</td>\n",
       "      <td>0.865743</td>\n",
       "    </tr>\n",
       "  </tbody>\n",
       "</table>\n",
       "</div>"
      ],
      "text/plain": [
       "      rank_test_score  mean_test_score\n",
       "3025                1         0.870212\n",
       "3059                2         0.870187\n",
       "2096                3         0.868015\n",
       "2044                4         0.867965\n",
       "2095                4         0.867965\n",
       "3087                4         0.867965\n",
       "2036                7         0.865793\n",
       "3002                8         0.865768\n",
       "3005                8         0.865768\n",
       "2011               10         0.865743"
      ]
     },
     "execution_count": 13,
     "metadata": {},
     "output_type": "execute_result"
    }
   ],
   "source": [
    "#download the results into a dataframe\n",
    "rdf = pd.DataFrame(rf_Grid.cv_results_)\n",
    "\n",
    "#displaying the highest 10 scores\n",
    "rdfp = rdf.nlargest(10, 'mean_test_score')\n",
    "rdfp[['rank_test_score','mean_test_score',]]"
   ]
  },
  {
   "cell_type": "code",
   "execution_count": 14,
   "id": "d6ed64ea",
   "metadata": {},
   "outputs": [
    {
     "data": {
      "text/plain": [
       "{'bootstrap': False,\n",
       " 'max_features': 'sqrt',\n",
       " 'min_samples_leaf': 1,\n",
       " 'min_samples_split': 2,\n",
       " 'n_estimators': 202}"
      ]
     },
     "execution_count": 14,
     "metadata": {},
     "output_type": "execute_result"
    }
   ],
   "source": [
    "#the best parameter after 4000 test\n",
    "rf_Grid.best_params_"
   ]
  },
  {
   "cell_type": "code",
   "execution_count": 17,
   "id": "0e39c3d6",
   "metadata": {
    "scrolled": true
   },
   "outputs": [
    {
     "name": "stdout",
     "output_type": "stream",
     "text": [
      "Train Accuracy - : 1.000\n",
      "Test Accuracy - : 0.884\n"
     ]
    }
   ],
   "source": [
    "#testing the grid accuracy\n",
    "print (f'Train Accuracy - : {rf_Grid.score(x_train,y_train):.3f}')\n",
    "print (f'Test Accuracy - : {rf_Grid.score(x_test,y_test):.3f}')"
   ]
  },
  {
   "cell_type": "markdown",
   "id": "f9c42b23",
   "metadata": {},
   "source": [
    "## Before and after\n",
    "I will be testing the effect of preprocessing and parameter tuning by testing before and after the change."
   ]
  },
  {
   "cell_type": "markdown",
   "id": "423557d3",
   "metadata": {},
   "source": [
    "### before\n",
    "testing the algorithm without balancing the data, and without adjusting the parameters."
   ]
  },
  {
   "cell_type": "code",
   "execution_count": 48,
   "id": "d42f035c",
   "metadata": {},
   "outputs": [],
   "source": [
    "from sklearn.ensemble import RandomForestClassifier\n",
    "\n",
    "rf = RandomForestClassifier ()\n",
    "\n",
    "rf.fit(x_train, y_train.ravel())\n",
    "\n",
    "y_pred = rf.predict(x_test)"
   ]
  },
  {
   "cell_type": "code",
   "execution_count": 49,
   "id": "34687acc",
   "metadata": {},
   "outputs": [
    {
     "data": {
      "text/plain": [
       "<sklearn.metrics._plot.confusion_matrix.ConfusionMatrixDisplay at 0x1c5aa86b100>"
      ]
     },
     "execution_count": 49,
     "metadata": {},
     "output_type": "execute_result"
    },
    {
     "data": {
      "image/png": "[encoded data removed]",
      "text/plain": [
       "<Figure size 432x288 with 2 Axes>"
      ]
     },
     "metadata": {
      "needs_background": "light"
     },
     "output_type": "display_data"
    }
   ],
   "source": [
    "#confusion matrix\n",
    "plot_confusion_matrix(rf, x_test, y_test)"
   ]
  },
  {
   "cell_type": "code",
   "execution_count": 50,
   "id": "2a07e110",
   "metadata": {},
   "outputs": [
    {
     "data": {
      "text/plain": [
       "0.7604166666666666"
      ]
     },
     "execution_count": 50,
     "metadata": {},
     "output_type": "execute_result"
    }
   ],
   "source": [
    "#score accuracy\n",
    "accuracy_score(y_test, y_pred)"
   ]
  },
  {
   "cell_type": "code",
   "execution_count": 51,
   "id": "f58afbca",
   "metadata": {},
   "outputs": [
    {
     "data": {
      "text/plain": [
       "0.7554471721484294"
      ]
     },
     "execution_count": 51,
     "metadata": {},
     "output_type": "execute_result"
    }
   ],
   "source": [
    "#f1_score\n",
    "f1_score(y_test, y_pred, average='weighted')"
   ]
  },
  {
   "cell_type": "markdown",
   "id": "a6c063f1",
   "metadata": {},
   "source": [
    "#### averaging the score\n",
    "since our dataset is not so large, the model's result isn't even close from one test to another\n",
    "to get a more acurate result, we will try 100 different models and take the average result. "
   ]
  },
  {
   "cell_type": "code",
   "execution_count": 53,
   "id": "83d242ab",
   "metadata": {},
   "outputs": [
    {
     "name": "stdout",
     "output_type": "stream",
     "text": [
      "0.7603125000000002\n",
      "0.7565905532460495\n"
     ]
    }
   ],
   "source": [
    "iterations = 100\n",
    "average_accuracy = 0\n",
    "average_f1_score = 0\n",
    "\n",
    "for i in range(iterations) : \n",
    "    rf = RandomForestClassifier ()\n",
    "    rf.fit(x_train, y_train.ravel())\n",
    "    y_pred = rf.predict(x_test)\n",
    "    average_accuracy = accuracy_score(y_test, y_pred) + average_accuracy\n",
    "    average_f1_score = f1_score(y_test, y_pred, average='weighted') + average_f1_score\n",
    "        \n",
    "        \n",
    "#print the average results \n",
    "average_accuracy = average_accuracy / iterations\n",
    "average_f1_score = average_f1_score / iterations\n",
    "print(average_accuracy)\n",
    "print(average_f1_score)\n",
    "    "
   ]
  },
  {
   "cell_type": "markdown",
   "id": "52f52265",
   "metadata": {},
   "source": [
    "### after\n",
    "now we test the algorithm after implementing OverSampling and parameter tuning. "
   ]
  },
  {
   "cell_type": "code",
   "execution_count": 59,
   "id": "36127be4",
   "metadata": {},
   "outputs": [],
   "source": [
    "from sklearn.ensemble import RandomForestClassifier\n",
    "\n",
    "rf = RandomForestClassifier (bootstrap = False,\n",
    " max_features = 'sqrt',\n",
    " min_samples_leaf = 1,\n",
    " min_samples_split= 2,\n",
    " n_estimators = 202)\n",
    "\n",
    "rf.fit(x_train, y_train.ravel())\n",
    "\n",
    "y_pred = rf.predict(x_test)"
   ]
  },
  {
   "cell_type": "code",
   "execution_count": 60,
   "id": "92974ce4",
   "metadata": {},
   "outputs": [
    {
     "data": {
      "text/plain": [
       "<sklearn.metrics._plot.confusion_matrix.ConfusionMatrixDisplay at 0x1c5a807a100>"
      ]
     },
     "execution_count": 60,
     "metadata": {},
     "output_type": "execute_result"
    },
    {
     "data": {
      "image/png": "[encoded data removed]",
      "text/plain": [
       "<Figure size 432x288 with 2 Axes>"
      ]
     },
     "metadata": {
      "needs_background": "light"
     },
     "output_type": "display_data"
    }
   ],
   "source": [
    "#confusion matrix\n",
    "plot_confusion_matrix(rf, x_test, y_test)"
   ]
  },
  {
   "cell_type": "code",
   "execution_count": 61,
   "id": "23b8df0c",
   "metadata": {},
   "outputs": [
    {
     "data": {
      "text/plain": [
       "0.8839285714285714"
      ]
     },
     "execution_count": 61,
     "metadata": {},
     "output_type": "execute_result"
    }
   ],
   "source": [
    "#score accuracy\n",
    "accuracy_score(y_test, y_pred)"
   ]
  },
  {
   "cell_type": "code",
   "execution_count": 62,
   "id": "b7859031",
   "metadata": {},
   "outputs": [
    {
     "data": {
      "text/plain": [
       "0.8848355829332367"
      ]
     },
     "execution_count": 62,
     "metadata": {},
     "output_type": "execute_result"
    }
   ],
   "source": [
    "#f1_score\n",
    "f1_score(y_test, y_pred, average='weighted')"
   ]
  },
  {
   "cell_type": "markdown",
   "id": "9b4c90b7",
   "metadata": {},
   "source": [
    "#### averaging the score\n",
    "Just like before we have to test the average score to get a more acurate accuracy. "
   ]
  },
  {
   "cell_type": "code",
   "execution_count": 64,
   "id": "05e5b39e",
   "metadata": {},
   "outputs": [
    {
     "name": "stdout",
     "output_type": "stream",
     "text": [
      "0.8861607142857139\n",
      "0.8871427296091329\n"
     ]
    }
   ],
   "source": [
    "iterations = 100\n",
    "average_accuracy = 0\n",
    "average_f1_score = 0\n",
    "\n",
    "for i in range(iterations) : \n",
    "    rf = RandomForestClassifier (bootstrap = False,\n",
    "    max_features = 'sqrt',\n",
    "    min_samples_leaf = 1,\n",
    "    min_samples_split= 2,\n",
    "    n_estimators = 202)\n",
    "    model = rf.fit(x_train, y_train.ravel())\n",
    "    y_pred = rf.predict(x_test)\n",
    "    average_accuracy = accuracy_score(y_test, y_pred) + average_accuracy\n",
    "    average_f1_score = f1_score(y_test, y_pred, average='weighted') + average_f1_score\n",
    "        \n",
    "#print the average results \n",
    "average_accuracy = average_accuracy / iterations\n",
    "average_f1_score = average_f1_score / iterations\n",
    "print(average_accuracy)\n",
    "print(average_f1_score) "
   ]
  }
 ],
 "metadata": {
  "kernelspec": {
   "display_name": "Python 3",
   "language": "python",
   "name": "python3"
  },
  "language_info": {
   "codemirror_mode": {
    "name": "ipython",
    "version": 3
   },
   "file_extension": ".py",
   "mimetype": "text/x-python",
   "name": "python",
   "nbconvert_exporter": "python",
   "pygments_lexer": "ipython3",
   "version": "3.8.8"
  }
 },
 "nbformat": 4,
 "nbformat_minor": 5
}
